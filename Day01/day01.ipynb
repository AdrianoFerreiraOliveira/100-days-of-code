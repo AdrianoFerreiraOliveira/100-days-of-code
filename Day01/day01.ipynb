{
 "cells": [
  {
   "cell_type": "markdown",
   "metadata": {},
   "source": [
    "##### Training Print"
   ]
  },
  {
   "cell_type": "code",
   "execution_count": 1,
   "metadata": {},
   "outputs": [
    {
     "name": "stdout",
     "output_type": "stream",
     "text": [
      "Hello World\n"
     ]
    }
   ],
   "source": [
    "print(\"1. Mix 500g of Flour, 10g Yeast and 300ml Water in a bowl.\")\n",
    "print(\"2. Knead the dough for 10 minutes.\")\n",
    "print(\"3. Add 3g of Salt.\")\n",
    "print(\"4. Leave to rise for 2 hours.\")\n",
    "print(\"5. Bake at 200 degrees C for 30 minutes.\")"
   ]
  },
  {
   "cell_type": "markdown",
   "metadata": {},
   "source": [
    "#### Print the \"\""
   ]
  },
  {
   "cell_type": "code",
   "execution_count": 1,
   "metadata": {},
   "outputs": [
    {
     "name": "stdout",
     "output_type": "stream",
     "text": [
      "A 'single quote' inside a double quote\n",
      "A \"double quote\" inside a single quote\n",
      "Alternatively you can just \"escape\" the quote\n"
     ]
    }
   ],
   "source": [
    "print(\"A 'single quote' inside a double quote\")\n",
    "print('A \"double quote\" inside a single quote')\n",
    "print(\"Alternatively you can just \\\"escape\\\" the quote\")"
   ]
  }
 ],
 "metadata": {
  "kernelspec": {
   "display_name": "Python 3",
   "language": "python",
   "name": "python3"
  },
  "language_info": {
   "codemirror_mode": {
    "name": "ipython",
    "version": 3
   },
   "file_extension": ".py",
   "mimetype": "text/x-python",
   "name": "python",
   "nbconvert_exporter": "python",
   "pygments_lexer": "ipython3",
   "version": "3.10.5"
  }
 },
 "nbformat": 4,
 "nbformat_minor": 2
}
